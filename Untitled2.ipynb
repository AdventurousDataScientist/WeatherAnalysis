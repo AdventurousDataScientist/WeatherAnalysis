{
 "cells": [
  {
   "cell_type": "code",
   "execution_count": null,
   "id": "a9c9b9f1",
   "metadata": {},
   "outputs": [],
   "source": [
    "year = 2008\n",
    "plt.rcParams[\"figure.figsize\"] = (25, 15)\n",
    "fig, ax = plt.subplots()\n",
    "summer = weather[(weather['date'] >= f'{year}-05-01') & (weather['date'] <= f'{year}-08-31')]\n",
    "max_weather = summer.groupby('date')['temp'].max()\n",
    "five_day_average = max_weather.groupby(np.arange(len(max_weather))//5).mean()\n",
    "five_day_average.index = [max_weather.index[i] for i in range(0, max_weather.shape[0], 5)]\n",
    "col = (np.random.random(), np.random.random(), np.random.random())\n",
    "ax.plot_date(five_day_average.index, five_day_average, linestyle='solid', linewidth=5, color=col, label=f'Summer {year}-5-Day-Avg')\n",
    "#ax.plot_date(max_weather.index, max_weather, linestyle='solid', linewidth=5, color=col, label=f'Summer {year}-Max-Temperature')\n",
    "original_labels = [str(label) for label in ax.get_xticks()]\n",
    "#labels_of_interest = [str(i) for i in np.arange(0,len(original_labels),5)]\n",
    "new_labels = [str(max_weather.index[int(label)*5]) for label in original_labels]\n",
    "#ax.xaxis.set_major_locator(ticker.MultipleLocator(base=2))  # x-axis ticks at multiples of 2\n",
    "ax.set_xticklabels(new_labels)\n",
    "plt.show()"
   ]
  },
  {
   "cell_type": "code",
   "execution_count": 2,
   "id": "12c14a1a",
   "metadata": {
    "scrolled": true
   },
   "outputs": [
    {
     "data": {
      "image/png": "[encoded data removed]",
      "text/plain": [
       "<Figure size 504x252 with 1 Axes>"
      ]
     },
     "metadata": {
      "needs_background": "light"
     },
     "output_type": "display_data"
    }
   ],
   "source": [
    "import matplotlib.pyplot as plt\n",
    "from matplotlib.dates import date2num, DateFormatter\n",
    "import datetime as dt\n",
    "\n",
    "plt.rcParams[\"figure.figsize\"] = [7.00, 3.50]\n",
    "#plt.rcParams[\"figure.autolayout\"] = True\n",
    "\n",
    "x1 = [date2num(dt.datetime(2021, 1, 15, 1, 1, 1)), date2num(dt.datetime(2021, 1, 15, 9, 1, 1))]\n",
    "\n",
    "y1 = [6, 2]\n",
    "\n",
    "x2 = [ date2num(dt.datetime(2021, 1, 15, 2, 1, 1)),\n",
    "    date2num(dt.datetime(2021, 1, 15, 4, 1, 1)),\n",
    "    date2num(dt.datetime(2021, 1, 15, 6, 1, 1)),\n",
    "    date2num(dt.datetime(2021, 1, 15, 8, 1, 1)),\n",
    "    date2num(dt.datetime(2021, 1, 15, 10, 1, 1))\n",
    "]\n",
    "\n",
    "y2 = [3, 6, 5, 4, 1]\n",
    "\n",
    "fig, ax = plt.subplots()\n",
    "\n",
    "ax.plot_date(x1, y1, 'o--')\n",
    "ax.plot_date(x2, y2, 'o:')\n",
    "\n",
    "ax.xaxis.set_major_formatter(DateFormatter('%H:%M:%S'))\n",
    "ax.tick_params(rotation=45)\n",
    "\n",
    "plt.show()"
   ]
  },
  {
   "cell_type": "code",
   "execution_count": null,
   "id": "082ae15d",
   "metadata": {},
   "outputs": [],
   "source": [
    "summer_2009 = weather[(weather['date'] >= f'2009-05-01') & (weather['date'] <= f'2009-08-31')]\n",
    "year_2009_max_weather = summer_2009.groupby('date')['temp'].max()\n",
    "year_2009_five_day_average = year_2009_max_weather.groupby(np.arange(len(year_2009_max_weather))//5).mean()\n",
    "year_2009_five_day_average.index = [year_2009_max_weather.index[i] for i in range(0, year_2009_max_weather.shape[0], 5)]\n",
    "col = (np.random.random(), np.random.random(), np.random.random())"
   ]
  },
  {
   "cell_type": "code",
   "execution_count": null,
   "id": "0346a3c4",
   "metadata": {},
   "outputs": [],
   "source": [
    "year = 2008\n",
    "plt.rcParams[\"figure.figsize\"] = (25, 15)\n",
    "fig, ax = plt.subplots()\n",
    "\n",
    "#### YEAR 2008 FIVE DAY AVERAGES\n",
    "summer_2008 = weather[(weather['date'] >= f'2008-05-01') & (weather['date'] <= f'2008-08-31')]\n",
    "year_2008_max_weather = summer_2008.groupby('date')['temp'].max()\n",
    "year_2008_five_day_average = year_2008_max_weather.groupby(np.arange(len(year_2008_max_weather))//5).mean()\n",
    "year_2008_five_day_average.index = [year_2008_max_weather.index[i] for i in range(0, year_2008_max_weather.shape[0], 5)]\n",
    "\n",
    "#### YEAR 2009 FIVE DAY AVERAGES\n",
    "summer_2009 = weather[(weather['date'] >= f'2009-05-01') & (weather['date'] <= f'2009-08-31')]\n",
    "year_2009_max_weather = summer_2009.groupby('date')['temp'].max()\n",
    "year_2009_five_day_average = year_2009_max_weather.groupby(np.arange(len(year_2009_max_weather))//5).mean()\n",
    "year_2009_five_day_average.index = [year_2009_max_weather.index[i] for i in range(0, year_2009_max_weather.shape[0], 5)]\n",
    "\n",
    "col1 = (np.random.random(), np.random.random(), np.random.random())\n",
    "col2 = (np.random.random(), np.random.random(), np.random.random())\n",
    "\n",
    "ax.plot_date(year_2008_five_day_average.index, year_2008_five_day_average, linestyle='solid', linewidth=5, color=col1,\\\n",
    "             label=f'2008-5-Day-Avg')\n",
    "ax.plot_date(year_2008_five_day_average.index, year_2009_five_day_average, linestyle='solid', linewidth=5, color=col2,\\\n",
    "             label=f'2009-5-Day-Avg')\n",
    "#ax.plot_date(year_2009_five_day_average.index, year_2009_five_day_average, linestyle='solid', linewidth=5, color=col2,\\\n",
    "#             label=f'2009-5-Day-Avg')\n",
    "\n",
    "original_labels = [str(label) for label in ax.get_xticks()]\n",
    "#labels_of_interest = [str(i) for i in np.arange(0,len(original_labels),5)]\n",
    "new_labels = [str(max_weather.index[int(label)*5]) for label in original_labels]\n",
    "#ax.xaxis.set_major_locator(ticker.MultipleLocator(base=2))  # x-axis ticks at multiples of 2\n",
    "ax.set_xticklabels(new_labels, rotation=90, fontsize=20)\n",
    "ax.set_yticklabels(ax.get_yticks(), fontsize=20)\n",
    "\n",
    "plt.show()"
   ]
  },
  {
   "cell_type": "code",
   "execution_count": 6,
   "id": "87e056ee",
   "metadata": {},
   "outputs": [
    {
     "name": "stderr",
     "output_type": "stream",
     "text": [
      "C:\\Users\\Nikhil\\AppData\\Local\\Temp\\ipykernel_13972\\2041099296.py:11: UserWarning: FixedFormatter should only be used together with FixedLocator\n",
      "  ax.set_xticklabels(['data_set_1', 'data_set_2'])\n"
     ]
    },
    {
     "data": {
      "image/png": "[encoded data removed]",
      "text/plain": [
       "<Figure size 720x504 with 1 Axes>"
      ]
     },
     "metadata": {
      "needs_background": "light"
     },
     "output_type": "display_data"
    }
   ],
   "source": [
    "import matplotlib.pyplot as plt\n",
    "import numpy as np\n",
    "\n",
    "np.random.seed(10)\n",
    "data_set_1 = np.random.normal(100, 10, 200)\n",
    "data_set_2 = np.random.normal(90, 20, 200)\n",
    "data_to_plot = [data_set_1, data_set_2]\n",
    "\n",
    "fig = plt.figure(figsize =(10, 7))\n",
    "ax = fig.add_subplot(111)\n",
    "ax.set_xticklabels(['data_set_1', 'data_set_2'])\n",
    "\n",
    "ax.boxplot(data_to_plot)\n",
    "plt.show()"
   ]
  },
  {
   "cell_type": "code",
   "execution_count": 5,
   "id": "8135dfd2",
   "metadata": {},
   "outputs": [
    {
     "name": "stderr",
     "output_type": "stream",
     "text": [
      "C:\\Users\\Nikhil\\AppData\\Local\\Temp\\ipykernel_13972\\1372658612.py:3: UserWarning: FixedFormatter should only be used together with FixedLocator\n",
      "  ax.set_xticklabels(['data_set_1', 'data_set_2'])\n"
     ]
    },
    {
     "data": {
      "image/png": "[encoded data removed]",
      "text/plain": [
       "<Figure size 720x504 with 1 Axes>"
      ]
     },
     "metadata": {
      "needs_background": "light"
     },
     "output_type": "display_data"
    }
   ],
   "source": []
  },
  {
   "cell_type": "code",
   "execution_count": 7,
   "id": "ea3e42c8",
   "metadata": {},
   "outputs": [
    {
     "name": "stdout",
     "output_type": "stream",
     "text": [
      "   Courses    Fee Duration  Discount\n",
      "0    Spark  20000   30days      1000\n",
      "1  PySpark  25000   40days      2300\n",
      "2   Pandas  22000   35days      1200\n",
      "3   Python  24000   45days      1500\n"
     ]
    }
   ],
   "source": [
    "\n",
    "# Create Pandas DataFrame\n",
    "import pandas as pd\n",
    "technologies = {\n",
    "    'Courses':[\"Spark\",\"PySpark\", \"Pandas\", \"Python\"],\n",
    "    'Fee' :[20000, 25000, 22000, 24000],\n",
    "    'Duration':['30days','40days', '35days', '45days'],\n",
    "    'Discount':[1000, 2300, 1200, 1500]\n",
    "              }\n",
    "df = pd.DataFrame(technologies)\n",
    "print(df)\n",
    "\n",
    "# Output:\n",
    "#   Courses    Fee Duration  Discount\n",
    "# 0    Spark  20000   30days      1000\n",
    "# 1  PySpark  25000   40days      2300\n",
    "# 2   Pandas  22000   35days      1200\n",
    "# 3   Python  24000   45days      1500\n"
   ]
  },
  {
   "cell_type": "code",
   "execution_count": 9,
   "id": "ccc8edc1",
   "metadata": {},
   "outputs": [
    {
     "data": {
      "text/plain": [
       "Discount    True\n",
       "dtype: bool"
      ]
     },
     "execution_count": 9,
     "metadata": {},
     "output_type": "execute_result"
    }
   ],
   "source": [
    "col = (df == 1200).any()\n",
    "col"
   ]
  },
  {
   "cell_type": "code",
   "execution_count": 8,
   "id": "c0d2f488",
   "metadata": {},
   "outputs": [
    {
     "name": "stdout",
     "output_type": "stream",
     "text": [
      "   Discount\n",
      "0      1000\n",
      "1      2300\n",
      "2      1200\n",
      "3      1500\n"
     ]
    }
   ],
   "source": [
    "col = (df == 1200).any()\n",
    "df = df.loc[: , col]\n",
    "print(df)"
   ]
  },
  {
   "cell_type": "code",
   "execution_count": null,
   "id": "5da882a0",
   "metadata": {},
   "outputs": [],
   "source": []
  }
 ],
 "metadata": {
  "kernelspec": {
   "display_name": "Python 3 (ipykernel)",
   "language": "python",
   "name": "python3"
  },
  "language_info": {
   "codemirror_mode": {
    "name": "ipython",
    "version": 3
   },
   "file_extension": ".py",
   "mimetype": "text/x-python",
   "name": "python",
   "nbconvert_exporter": "python",
   "pygments_lexer": "ipython3",
   "version": "3.9.12"
  }
 },
 "nbformat": 4,
 "nbformat_minor": 5
}
