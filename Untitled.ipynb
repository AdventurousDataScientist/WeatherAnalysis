{
 "cells": [
  {
   "cell_type": "code",
   "execution_count": 1,
   "id": "cddd04f1",
   "metadata": {},
   "outputs": [],
   "source": [
    "from selenium import webdriver\n",
    "from selenium.webdriver.common.by import By\n",
    "from selenium.webdriver.support.ui import WebDriverWait\n",
    "from selenium.webdriver.support import expected_conditions as EC\n",
    "import pandas as pd\n",
    "from datetime import datetime, timedelta\n",
    "import calendar    "
   ]
  },
  {
   "cell_type": "markdown",
   "id": "70fdbab0",
   "metadata": {},
   "source": [
    "### TEST RUN"
   ]
  },
  {
   "cell_type": "code",
   "execution_count": 2,
   "id": "61779c25",
   "metadata": {},
   "outputs": [
    {
     "name": "stderr",
     "output_type": "stream",
     "text": [
      "<timed exec>:2: DeprecationWarning: executable_path has been deprecated, please pass in a Service object\n",
      "\n",
      "KeyboardInterrupt\n",
      "\n"
     ]
    }
   ],
   "source": [
    "%%time\n",
    "url = 'https://www.wunderground.com/history/daily/us/tx/frisco/KDAL/date/2023-8-19'\n",
    "driver = webdriver.Chrome(executable_path='C:/Program Files (x86)/chromedriver.exe')\n",
    "driver.get(url)\n",
    "tables = WebDriverWait(driver,20).until(EC.presence_of_all_elements_located((By.CSS_SELECTOR, \"table\")))\n",
    "for table in tables:\n",
    "    newTable = pd.read_html(table.get_attribute('outerHTML'))"
   ]
  },
  {
   "cell_type": "code",
   "execution_count": 3,
   "id": "05ae0139",
   "metadata": {},
   "outputs": [
    {
     "name": "stderr",
     "output_type": "stream",
     "text": [
      "\n",
      "KeyboardInterrupt\n",
      "\n"
     ]
    }
   ],
   "source": [
    "newTable"
   ]
  },
  {
   "cell_type": "code",
   "execution_count": null,
   "id": "01e8259e",
   "metadata": {},
   "outputs": [],
   "source": [
    "tables"
   ]
  },
  {
   "cell_type": "code",
   "execution_count": null,
   "id": "4b9254cc",
   "metadata": {},
   "outputs": [],
   "source": [
    "def get_attrs(obj):\n",
    "    for attr in dir(obj):\n",
    "        print(f'Attribute: {attr}')\n",
    "        #if attr[0:2] != '__' or attr[0] != '_':\n",
    "        #    print(f'Attribute: {attr}')"
   ]
  },
  {
   "cell_type": "code",
   "execution_count": null,
   "id": "e1cf240f",
   "metadata": {},
   "outputs": [],
   "source": [
    "get_attrs(tables)"
   ]
  },
  {
   "cell_type": "code",
   "execution_count": null,
   "id": "1be4ff17",
   "metadata": {},
   "outputs": [],
   "source": [
    "len(tables)"
   ]
  },
  {
   "cell_type": "code",
   "execution_count": null,
   "id": "8ad53bce",
   "metadata": {},
   "outputs": [],
   "source": [
    "for t in tables:\n",
    "    display(pd.read_html(t.get_attribute('outerHTML')))"
   ]
  },
  {
   "cell_type": "code",
   "execution_count": null,
   "id": "9d19e14b",
   "metadata": {},
   "outputs": [],
   "source": [
    "daily_stats = pd.read_html(tables[0].get_attribute('outerHTML'))"
   ]
  },
  {
   "cell_type": "code",
   "execution_count": null,
   "id": "7ecf5aad",
   "metadata": {},
   "outputs": [],
   "source": [
    "weather_table[0]"
   ]
  },
  {
   "cell_type": "code",
   "execution_count": null,
   "id": "93d07f78",
   "metadata": {},
   "outputs": [],
   "source": [
    "hourly_weather = pd.read_html(tables[1].get_attribute('outerHTML'))[0]"
   ]
  },
  {
   "cell_type": "code",
   "execution_count": null,
   "id": "f3a7b919",
   "metadata": {},
   "outputs": [],
   "source": [
    "hourly_weather"
   ]
  },
  {
   "cell_type": "markdown",
   "id": "1362ef20",
   "metadata": {},
   "source": [
    "Dealing with weather"
   ]
  },
  {
   "cell_type": "code",
   "execution_count": null,
   "id": "a62cf41c",
   "metadata": {
    "scrolled": true
   },
   "outputs": [],
   "source": [
    "int(hourly_weather[hourly_weather['Time'] == '12:53 AM']['Temperature'].values[0].replace('\\xa0°F', ''))"
   ]
  },
  {
   "cell_type": "code",
   "execution_count": null,
   "id": "ecb675b4",
   "metadata": {},
   "outputs": [],
   "source": [
    "hourly_weather[hourly_weather['Time'] == '12:53 AM']"
   ]
  },
  {
   "cell_type": "code",
   "execution_count": null,
   "id": "6225ef53",
   "metadata": {},
   "outputs": [],
   "source": [
    "def hour_rounder(t):\n",
    "    # Rounds to nearest hour by adding a timedelta hour if minute >= 30\n",
    "    return (t.replace(second=0, microsecond=0, minute=0, hour=t.hour)\n",
    "               +timedelta(hours=t.minute//30))"
   ]
  },
  {
   "cell_type": "code",
   "execution_count": null,
   "id": "f6a722b5",
   "metadata": {},
   "outputs": [],
   "source": [
    "\n",
    "now = datetime.now()\n",
    "print(now)\n",
    "print(hour_rounder(now))\n"
   ]
  },
  {
   "cell_type": "code",
   "execution_count": null,
   "id": "a584d628",
   "metadata": {},
   "outputs": [],
   "source": [
    "hourly_weather['rounded_time'] = hourly_weather['Time'].apply(lambda x: )"
   ]
  },
  {
   "cell_type": "code",
   "execution_count": null,
   "id": "2ce6394d",
   "metadata": {},
   "outputs": [],
   "source": [
    "hourly_weather"
   ]
  },
  {
   "cell_type": "code",
   "execution_count": null,
   "id": "424bb821",
   "metadata": {},
   "outputs": [],
   "source": [
    "def get_hour_rounded(time):\n",
    "    try:\n",
    "        date_object = datetime.strptime(date_str, '%Y-%m-%d')\n",
    "        hour = 0\n",
    "        print(f'Time: {time}')\n",
    "        if int(time.split(':')[0]) == 12 and time.split(':')[1].split(' ')[1].upper() == 'AM':\n",
    "            hour = 0\n",
    "            #print(f'Time: {time}')\n",
    "        elif int(time.split(':')[0]) == 12 and time.split(':')[1].split(' ')[1].upper() == 'PM':\n",
    "            hour = 12\n",
    "        elif int(time.split(':')[0]) != 12: # hour is not 12\n",
    "            if time.split(':')[1].split(' ')[1].upper() == 'PM':\n",
    "                print(f'not 12 pm Hour: {hour}')\n",
    "                hour = int(time.split(':')[0]) + 12\n",
    "            else:\n",
    "                print(f'not 12 am Hour: {hour}')\n",
    "                hour = int(time.split(':')[0])\n",
    "        print(f'Time After hour fix: {time}')\n",
    "        #print(time.split(':')[0])\n",
    "        print(f'Hour After fix: {hour}')\n",
    "        minute = int(time.split(':')[1].split(' ')[0])\n",
    "        date_object = date_object.replace(hour=hour, minute=minute)\n",
    "        date_object = hour_rounder(date_object)\n",
    "        time = date_object.strftime(\"%H:%M:%S\")\n",
    "        if hour < 12:\n",
    "            time = f\"{int(time.split(':')[0])}:00 AM\"\n",
    "        else:\n",
    "            time = f\"{int(time.split(':')[0])}:00 PM\"\n",
    "        return time\n",
    "    except:\n",
    "        None"
   ]
  },
  {
   "cell_type": "code",
   "execution_count": null,
   "id": "82b0c2fe",
   "metadata": {},
   "outputs": [],
   "source": [
    "hourly_weather['date'] = '2023-08-19'"
   ]
  },
  {
   "cell_type": "code",
   "execution_count": null,
   "id": "2a1d0309",
   "metadata": {},
   "outputs": [],
   "source": [
    "get_hour_rounded('12:53 AM')"
   ]
  },
  {
   "cell_type": "code",
   "execution_count": null,
   "id": "96ba0c4b",
   "metadata": {},
   "outputs": [],
   "source": [
    "hourly_weather['rounded_time']= hourly_weather['Time'].apply(lambda x: get_hour_rounded(x))"
   ]
  },
  {
   "cell_type": "code",
   "execution_count": null,
   "id": "b72ce049",
   "metadata": {},
   "outputs": [],
   "source": [
    "hourly_weather['rounded_time']"
   ]
  },
  {
   "cell_type": "code",
   "execution_count": null,
   "id": "324a45ce",
   "metadata": {},
   "outputs": [],
   "source": [
    "date"
   ]
  },
  {
   "cell_type": "code",
   "execution_count": null,
   "id": "8ab96bfb",
   "metadata": {},
   "outputs": [],
   "source": [
    "time"
   ]
  },
  {
   "cell_type": "code",
   "execution_count": null,
   "id": "7e8159e3",
   "metadata": {},
   "outputs": [],
   "source": [
    "f\"{int(time.split(':')[0])}:00 AM\""
   ]
  },
  {
   "cell_type": "code",
   "execution_count": null,
   "id": "988fdc4a",
   "metadata": {},
   "outputs": [],
   "source": [
    "hourly_weather"
   ]
  },
  {
   "cell_type": "code",
   "execution_count": null,
   "id": "4efe8c52",
   "metadata": {},
   "outputs": [],
   "source": [
    "12:00 -> "
   ]
  },
  {
   "cell_type": "code",
   "execution_count": null,
   "id": "489e405f",
   "metadata": {},
   "outputs": [],
   "source": [
    "adder = lambda x, y: x + y\n",
    "print (adder (1, 2))"
   ]
  },
  {
   "cell_type": "code",
   "execution_count": null,
   "id": "70361130",
   "metadata": {},
   "outputs": [],
   "source": [
    "type(daily_stats[0])"
   ]
  },
  {
   "cell_type": "markdown",
   "id": "291ac7cf",
   "metadata": {},
   "source": [
    "### DATA COLLECTION RUN"
   ]
  },
  {
   "cell_type": "code",
   "execution_count": 2,
   "id": "12d8c49d",
   "metadata": {},
   "outputs": [
    {
     "name": "stderr",
     "output_type": "stream",
     "text": [
      "<timed exec>:5: DeprecationWarning: executable_path has been deprecated, please pass in a Service object\n"
     ]
    },
    {
     "ename": "SessionNotCreatedException",
     "evalue": "Message: session not created: This version of ChromeDriver only supports Chrome version 114\nCurrent browser version is 116.0.5845.96 with binary path C:\\Program Files\\Google\\Chrome\\Application\\chrome.exe\nStacktrace:\nBacktrace:\n\tGetHandleVerifier [0x0111A813+48355]\n\t(No symbol) [0x010AC4B1]\n\t(No symbol) [0x00FB5358]\n\t(No symbol) [0x00FD61AC]\n\t(No symbol) [0x00FD1EF3]\n\t(No symbol) [0x00FD0579]\n\t(No symbol) [0x01000C55]\n\t(No symbol) [0x0100093C]\n\t(No symbol) [0x00FFA536]\n\t(No symbol) [0x00FD82DC]\n\t(No symbol) [0x00FD93DD]\n\tGetHandleVerifier [0x0137AABD+2539405]\n\tGetHandleVerifier [0x013BA78F+2800735]\n\tGetHandleVerifier [0x013B456C+2775612]\n\tGetHandleVerifier [0x011A51E0+616112]\n\t(No symbol) [0x010B5F8C]\n\t(No symbol) [0x010B2328]\n\t(No symbol) [0x010B240B]\n\t(No symbol) [0x010A4FF7]\n\tBaseThreadInitThunk [0x758C7D59+25]\n\tRtlInitializeExceptionChain [0x77C5B79B+107]\n\tRtlClearBits [0x77C5B71F+191]\n",
     "output_type": "error",
     "traceback": [
      "\u001b[1;31m---------------------------------------------------------------------------\u001b[0m",
      "\u001b[1;31mSessionNotCreatedException\u001b[0m                Traceback (most recent call last)",
      "File \u001b[1;32m<timed exec>:5\u001b[0m, in \u001b[0;36m<module>\u001b[1;34m\u001b[0m\n",
      "File \u001b[1;32m~\\anaconda3\\lib\\site-packages\\selenium\\webdriver\\chrome\\webdriver.py:70\u001b[0m, in \u001b[0;36mWebDriver.__init__\u001b[1;34m(self, executable_path, port, options, service_args, desired_capabilities, service_log_path, chrome_options, service, keep_alive)\u001b[0m\n\u001b[0;32m     67\u001b[0m \u001b[38;5;28;01mif\u001b[39;00m \u001b[38;5;129;01mnot\u001b[39;00m service:\n\u001b[0;32m     68\u001b[0m     service \u001b[38;5;241m=\u001b[39m Service(executable_path, port, service_args, service_log_path)\n\u001b[1;32m---> 70\u001b[0m \u001b[38;5;28;43msuper\u001b[39;49m\u001b[43m(\u001b[49m\u001b[43mWebDriver\u001b[49m\u001b[43m,\u001b[49m\u001b[43m \u001b[49m\u001b[38;5;28;43mself\u001b[39;49m\u001b[43m)\u001b[49m\u001b[38;5;241;43m.\u001b[39;49m\u001b[38;5;21;43m__init__\u001b[39;49m\u001b[43m(\u001b[49m\u001b[43mDesiredCapabilities\u001b[49m\u001b[38;5;241;43m.\u001b[39;49m\u001b[43mCHROME\u001b[49m\u001b[43m[\u001b[49m\u001b[38;5;124;43m'\u001b[39;49m\u001b[38;5;124;43mbrowserName\u001b[39;49m\u001b[38;5;124;43m'\u001b[39;49m\u001b[43m]\u001b[49m\u001b[43m,\u001b[49m\u001b[43m \u001b[49m\u001b[38;5;124;43m\"\u001b[39;49m\u001b[38;5;124;43mgoog\u001b[39;49m\u001b[38;5;124;43m\"\u001b[39;49m\u001b[43m,\u001b[49m\n\u001b[0;32m     71\u001b[0m \u001b[43m                                \u001b[49m\u001b[43mport\u001b[49m\u001b[43m,\u001b[49m\u001b[43m \u001b[49m\u001b[43moptions\u001b[49m\u001b[43m,\u001b[49m\n\u001b[0;32m     72\u001b[0m \u001b[43m                                \u001b[49m\u001b[43mservice_args\u001b[49m\u001b[43m,\u001b[49m\u001b[43m \u001b[49m\u001b[43mdesired_capabilities\u001b[49m\u001b[43m,\u001b[49m\n\u001b[0;32m     73\u001b[0m \u001b[43m                                \u001b[49m\u001b[43mservice_log_path\u001b[49m\u001b[43m,\u001b[49m\u001b[43m \u001b[49m\u001b[43mservice\u001b[49m\u001b[43m,\u001b[49m\u001b[43m \u001b[49m\u001b[43mkeep_alive\u001b[49m\u001b[43m)\u001b[49m\n",
      "File \u001b[1;32m~\\anaconda3\\lib\\site-packages\\selenium\\webdriver\\chromium\\webdriver.py:92\u001b[0m, in \u001b[0;36mChromiumDriver.__init__\u001b[1;34m(self, browser_name, vendor_prefix, port, options, service_args, desired_capabilities, service_log_path, service, keep_alive)\u001b[0m\n\u001b[0;32m     89\u001b[0m \u001b[38;5;28mself\u001b[39m\u001b[38;5;241m.\u001b[39mservice\u001b[38;5;241m.\u001b[39mstart()\n\u001b[0;32m     91\u001b[0m \u001b[38;5;28;01mtry\u001b[39;00m:\n\u001b[1;32m---> 92\u001b[0m     \u001b[43mRemoteWebDriver\u001b[49m\u001b[38;5;241;43m.\u001b[39;49m\u001b[38;5;21;43m__init__\u001b[39;49m\u001b[43m(\u001b[49m\n\u001b[0;32m     93\u001b[0m \u001b[43m        \u001b[49m\u001b[38;5;28;43mself\u001b[39;49m\u001b[43m,\u001b[49m\n\u001b[0;32m     94\u001b[0m \u001b[43m        \u001b[49m\u001b[43mcommand_executor\u001b[49m\u001b[38;5;241;43m=\u001b[39;49m\u001b[43mChromiumRemoteConnection\u001b[49m\u001b[43m(\u001b[49m\n\u001b[0;32m     95\u001b[0m \u001b[43m            \u001b[49m\u001b[43mremote_server_addr\u001b[49m\u001b[38;5;241;43m=\u001b[39;49m\u001b[38;5;28;43mself\u001b[39;49m\u001b[38;5;241;43m.\u001b[39;49m\u001b[43mservice\u001b[49m\u001b[38;5;241;43m.\u001b[39;49m\u001b[43mservice_url\u001b[49m\u001b[43m,\u001b[49m\n\u001b[0;32m     96\u001b[0m \u001b[43m            \u001b[49m\u001b[43mbrowser_name\u001b[49m\u001b[38;5;241;43m=\u001b[39;49m\u001b[43mbrowser_name\u001b[49m\u001b[43m,\u001b[49m\u001b[43m \u001b[49m\u001b[43mvendor_prefix\u001b[49m\u001b[38;5;241;43m=\u001b[39;49m\u001b[43mvendor_prefix\u001b[49m\u001b[43m,\u001b[49m\n\u001b[0;32m     97\u001b[0m \u001b[43m            \u001b[49m\u001b[43mkeep_alive\u001b[49m\u001b[38;5;241;43m=\u001b[39;49m\u001b[43mkeep_alive\u001b[49m\u001b[43m,\u001b[49m\u001b[43m \u001b[49m\u001b[43mignore_proxy\u001b[49m\u001b[38;5;241;43m=\u001b[39;49m\u001b[43m_ignore_proxy\u001b[49m\u001b[43m)\u001b[49m\u001b[43m,\u001b[49m\n\u001b[0;32m     98\u001b[0m \u001b[43m        \u001b[49m\u001b[43moptions\u001b[49m\u001b[38;5;241;43m=\u001b[39;49m\u001b[43moptions\u001b[49m\u001b[43m)\u001b[49m\n\u001b[0;32m     99\u001b[0m \u001b[38;5;28;01mexcept\u001b[39;00m \u001b[38;5;167;01mException\u001b[39;00m:\n\u001b[0;32m    100\u001b[0m     \u001b[38;5;28mself\u001b[39m\u001b[38;5;241m.\u001b[39mquit()\n",
      "File \u001b[1;32m~\\anaconda3\\lib\\site-packages\\selenium\\webdriver\\remote\\webdriver.py:275\u001b[0m, in \u001b[0;36mWebDriver.__init__\u001b[1;34m(self, command_executor, desired_capabilities, browser_profile, proxy, keep_alive, file_detector, options)\u001b[0m\n\u001b[0;32m    273\u001b[0m \u001b[38;5;28mself\u001b[39m\u001b[38;5;241m.\u001b[39m_authenticator_id \u001b[38;5;241m=\u001b[39m \u001b[38;5;28;01mNone\u001b[39;00m\n\u001b[0;32m    274\u001b[0m \u001b[38;5;28mself\u001b[39m\u001b[38;5;241m.\u001b[39mstart_client()\n\u001b[1;32m--> 275\u001b[0m \u001b[38;5;28;43mself\u001b[39;49m\u001b[38;5;241;43m.\u001b[39;49m\u001b[43mstart_session\u001b[49m\u001b[43m(\u001b[49m\u001b[43mcapabilities\u001b[49m\u001b[43m,\u001b[49m\u001b[43m \u001b[49m\u001b[43mbrowser_profile\u001b[49m\u001b[43m)\u001b[49m\n",
      "File \u001b[1;32m~\\anaconda3\\lib\\site-packages\\selenium\\webdriver\\remote\\webdriver.py:365\u001b[0m, in \u001b[0;36mWebDriver.start_session\u001b[1;34m(self, capabilities, browser_profile)\u001b[0m\n\u001b[0;32m    363\u001b[0m w3c_caps \u001b[38;5;241m=\u001b[39m _make_w3c_caps(capabilities)\n\u001b[0;32m    364\u001b[0m parameters \u001b[38;5;241m=\u001b[39m {\u001b[38;5;124m\"\u001b[39m\u001b[38;5;124mcapabilities\u001b[39m\u001b[38;5;124m\"\u001b[39m: w3c_caps}\n\u001b[1;32m--> 365\u001b[0m response \u001b[38;5;241m=\u001b[39m \u001b[38;5;28;43mself\u001b[39;49m\u001b[38;5;241;43m.\u001b[39;49m\u001b[43mexecute\u001b[49m\u001b[43m(\u001b[49m\u001b[43mCommand\u001b[49m\u001b[38;5;241;43m.\u001b[39;49m\u001b[43mNEW_SESSION\u001b[49m\u001b[43m,\u001b[49m\u001b[43m \u001b[49m\u001b[43mparameters\u001b[49m\u001b[43m)\u001b[49m\n\u001b[0;32m    366\u001b[0m \u001b[38;5;28;01mif\u001b[39;00m \u001b[38;5;124m'\u001b[39m\u001b[38;5;124msessionId\u001b[39m\u001b[38;5;124m'\u001b[39m \u001b[38;5;129;01mnot\u001b[39;00m \u001b[38;5;129;01min\u001b[39;00m response:\n\u001b[0;32m    367\u001b[0m     response \u001b[38;5;241m=\u001b[39m response[\u001b[38;5;124m'\u001b[39m\u001b[38;5;124mvalue\u001b[39m\u001b[38;5;124m'\u001b[39m]\n",
      "File \u001b[1;32m~\\anaconda3\\lib\\site-packages\\selenium\\webdriver\\remote\\webdriver.py:430\u001b[0m, in \u001b[0;36mWebDriver.execute\u001b[1;34m(self, driver_command, params)\u001b[0m\n\u001b[0;32m    428\u001b[0m response \u001b[38;5;241m=\u001b[39m \u001b[38;5;28mself\u001b[39m\u001b[38;5;241m.\u001b[39mcommand_executor\u001b[38;5;241m.\u001b[39mexecute(driver_command, params)\n\u001b[0;32m    429\u001b[0m \u001b[38;5;28;01mif\u001b[39;00m response:\n\u001b[1;32m--> 430\u001b[0m     \u001b[38;5;28;43mself\u001b[39;49m\u001b[38;5;241;43m.\u001b[39;49m\u001b[43merror_handler\u001b[49m\u001b[38;5;241;43m.\u001b[39;49m\u001b[43mcheck_response\u001b[49m\u001b[43m(\u001b[49m\u001b[43mresponse\u001b[49m\u001b[43m)\u001b[49m\n\u001b[0;32m    431\u001b[0m     response[\u001b[38;5;124m'\u001b[39m\u001b[38;5;124mvalue\u001b[39m\u001b[38;5;124m'\u001b[39m] \u001b[38;5;241m=\u001b[39m \u001b[38;5;28mself\u001b[39m\u001b[38;5;241m.\u001b[39m_unwrap_value(\n\u001b[0;32m    432\u001b[0m         response\u001b[38;5;241m.\u001b[39mget(\u001b[38;5;124m'\u001b[39m\u001b[38;5;124mvalue\u001b[39m\u001b[38;5;124m'\u001b[39m, \u001b[38;5;28;01mNone\u001b[39;00m))\n\u001b[0;32m    433\u001b[0m     \u001b[38;5;28;01mreturn\u001b[39;00m response\n",
      "File \u001b[1;32m~\\anaconda3\\lib\\site-packages\\selenium\\webdriver\\remote\\errorhandler.py:247\u001b[0m, in \u001b[0;36mErrorHandler.check_response\u001b[1;34m(self, response)\u001b[0m\n\u001b[0;32m    245\u001b[0m         alert_text \u001b[38;5;241m=\u001b[39m value[\u001b[38;5;124m'\u001b[39m\u001b[38;5;124malert\u001b[39m\u001b[38;5;124m'\u001b[39m]\u001b[38;5;241m.\u001b[39mget(\u001b[38;5;124m'\u001b[39m\u001b[38;5;124mtext\u001b[39m\u001b[38;5;124m'\u001b[39m)\n\u001b[0;32m    246\u001b[0m     \u001b[38;5;28;01mraise\u001b[39;00m exception_class(message, screen, stacktrace, alert_text)  \u001b[38;5;66;03m# type: ignore[call-arg]  # mypy is not smart enough here\u001b[39;00m\n\u001b[1;32m--> 247\u001b[0m \u001b[38;5;28;01mraise\u001b[39;00m exception_class(message, screen, stacktrace)\n",
      "\u001b[1;31mSessionNotCreatedException\u001b[0m: Message: session not created: This version of ChromeDriver only supports Chrome version 114\nCurrent browser version is 116.0.5845.96 with binary path C:\\Program Files\\Google\\Chrome\\Application\\chrome.exe\nStacktrace:\nBacktrace:\n\tGetHandleVerifier [0x0111A813+48355]\n\t(No symbol) [0x010AC4B1]\n\t(No symbol) [0x00FB5358]\n\t(No symbol) [0x00FD61AC]\n\t(No symbol) [0x00FD1EF3]\n\t(No symbol) [0x00FD0579]\n\t(No symbol) [0x01000C55]\n\t(No symbol) [0x0100093C]\n\t(No symbol) [0x00FFA536]\n\t(No symbol) [0x00FD82DC]\n\t(No symbol) [0x00FD93DD]\n\tGetHandleVerifier [0x0137AABD+2539405]\n\tGetHandleVerifier [0x013BA78F+2800735]\n\tGetHandleVerifier [0x013B456C+2775612]\n\tGetHandleVerifier [0x011A51E0+616112]\n\t(No symbol) [0x010B5F8C]\n\t(No symbol) [0x010B2328]\n\t(No symbol) [0x010B240B]\n\t(No symbol) [0x010A4FF7]\n\tBaseThreadInitThunk [0x758C7D59+25]\n\tRtlInitializeExceptionChain [0x77C5B79B+107]\n\tRtlClearBits [0x77C5B71F+191]\n"
     ]
    }
   ],
   "source": [
    "%%time\n",
    "year = 2023\n",
    "month = 5\n",
    "current_month = 8\n",
    "current_day = 19\n",
    "driver = webdriver.Chrome(executable_path='C:/Program Files (x86)/chromedriver.exe')\n",
    "all_daily_stats = []\n",
    "all_hourly_weather_stats = []\n",
    "\n",
    "cal = calendar.Calendar()\n",
    "for month in range(5, 9):\n",
    "    for date in cal.itermonthdays3(year, month):\n",
    "        print(f'Date: {date[0]}-{date[1]}-{date[2]}')\n",
    "        if date[1] < current_month: # processing all months before current month\n",
    "            url = f'https://www.wunderground.com/history/daily/us/tx/frisco/KDAL/date/{date[0]}-{date[1]}-{date[2]}'\n",
    "            driver.get(url)\n",
    "            tables = WebDriverWait(driver, 20).until(EC.presence_of_all_elements_located((By.CSS_SELECTOR, \"table\")))\n",
    "            print(f'Processing daily stats')\n",
    "            daily_stats = pd.read_html(tables[0].get_attribute('outerHTML'))[0]\n",
    "            print(f'Done Processing daily stats')\n",
    "            all_daily_stats.append(daily_stats)\n",
    "            hourly_weather = pd.read_html(tables[1].get_attribute('outerHTML'))[0]\n",
    "            print(f'Processing hourly weather stats')\n",
    "            all_hourly_weather_stats.append(hourly_weather)\n",
    "            print(f'Done Processing hourly weather stats')\n",
    "            #print(f'{date[0]}-{date[1]}-{date[2]}')\n",
    "        elif date[1] == current_month and date[2] <= current_day: # current month\n",
    "            url = f'https://www.wunderground.com/history/daily/us/tx/frisco/KDAL/date/{date[0]}-{date[1]}-{date[2]}'\n",
    "            driver.get(url)\n",
    "            tables = WebDriverWait(driver, 20).until(EC.presence_of_all_elements_located((By.CSS_SELECTOR, \"table\")))\n",
    "            print(f'Processing daily stats')\n",
    "            daily_stats = pd.read_html(tables[0].get_attribute('outerHTML'))[0]\n",
    "            print(f'Done Processing daily stats')\n",
    "            all_daily_stats.append(daily_stats)\n",
    "            print(f'Processing hourly weather stats')\n",
    "            hourly_weather = pd.read_html(tables[1].get_attribute('outerHTML'))[0]\n",
    "            print(f'Done Processing hourly weather stats')\n",
    "            all_hourly_weather_stats.append(hourly_weather)"
   ]
  },
  {
   "cell_type": "code",
   "execution_count": null,
   "id": "288d2fca",
   "metadata": {},
   "outputs": [],
   "source": [
    "def add_3(x):\n",
    "    return x+3\n",
    "\n",
    "data = [(3,5,7), (2,4,6),(5,8,9)]\n",
    "df = pd.DataFrame(data, columns = ['A','B','C'])\n",
    "df = pd.DataFrame(data, columns = ['A','B','C'])\n"
   ]
  },
  {
   "cell_type": "code",
   "execution_count": null,
   "id": "d131e2b9",
   "metadata": {},
   "outputs": [],
   "source": [
    "df[['A','B']] = df[['A','B']].apply(add_3)\n",
    "df"
   ]
  },
  {
   "cell_type": "code",
   "execution_count": null,
   "id": "303ecbec",
   "metadata": {},
   "outputs": [],
   "source": [
    "\n",
    "df[['A','B']] = df[['A','B']].apply(lambda x: x + 3)\n",
    "df"
   ]
  },
  {
   "cell_type": "code",
   "execution_count": null,
   "id": "497c212e",
   "metadata": {},
   "outputs": [],
   "source": [
    "\n",
    "df[['A','B']] = df[['A','B']].apply(lambda x, y: x + y)\n",
    "df"
   ]
  },
  {
   "cell_type": "code",
   "execution_count": null,
   "id": "e0bb2e76",
   "metadata": {},
   "outputs": [],
   "source": [
    "add = lambda x, y : x + y\n",
    "print(add(10, 20)) "
   ]
  },
  {
   "cell_type": "code",
   "execution_count": null,
   "id": "af41c7f6",
   "metadata": {},
   "outputs": [],
   "source": [
    "import pandas as pd\n",
    "df = pd.DataFrame({\"A\": [10,20,30], \"B\": [20, 30, 10]})\n",
    "\n",
    "def fx(x):\n",
    "    return x * x\n",
    "\n",
    "print(df)\n",
    "df['newcolumn'] = df.A.apply(fx)\n",
    "print(df)"
   ]
  },
  {
   "cell_type": "code",
   "execution_count": null,
   "id": "d3e2f0d6",
   "metadata": {},
   "outputs": [],
   "source": [
    "def fxy(x, y):\n",
    "    return x * y\n",
    "\n",
    "df['newcolumn'] = df.apply(lambda x: fxy(x['A'], x['B']), axis=1)\n",
    "df"
   ]
  },
  {
   "cell_type": "code",
   "execution_count": null,
   "id": "9e1d450d",
   "metadata": {},
   "outputs": [],
   "source": []
  }
 ],
 "metadata": {
  "kernelspec": {
   "display_name": "Python 3 (ipykernel)",
   "language": "python",
   "name": "python3"
  },
  "language_info": {
   "codemirror_mode": {
    "name": "ipython",
    "version": 3
   },
   "file_extension": ".py",
   "mimetype": "text/x-python",
   "name": "python",
   "nbconvert_exporter": "python",
   "pygments_lexer": "ipython3",
   "version": "3.9.12"
  }
 },
 "nbformat": 4,
 "nbformat_minor": 5
}
